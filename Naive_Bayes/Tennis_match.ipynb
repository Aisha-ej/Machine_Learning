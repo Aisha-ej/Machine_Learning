{
 "cells": [
  {
   "cell_type": "code",
   "execution_count": 1,
   "id": "5b1b04cb",
   "metadata": {},
   "outputs": [],
   "source": [
    "import numpy as np\n",
    "import pandas as pd\n",
    "import matplotlib.pyplot as plt"
   ]
  },
  {
   "cell_type": "code",
   "execution_count": 2,
   "id": "a6f12d46",
   "metadata": {},
   "outputs": [],
   "source": [
    "Outlook =[\"Sunny\",\"Sunny\",\"Overcast\",\"Rain\",\"Rain\",\"Rain\",\"Overcast\",\"Sunny\",\n",
    "                \"Sunny\",\"Rain\",\"Sunny\",\"Overcast\",\"Overcast\",\"Rain\"]\n",
    "Temperature = [\"Hot\",\"Hot\",\"Hot\",\"Mild\",\"Cool\",\"Cool\",\"Cool\",\"Mild\",\n",
    "                    \"Cool\",\"Mild\",\"Mild\",\"Mild\",\"Hot\",\"Mild\"]\n",
    "Humidity = [\"High\",\"High\",\"High\",\"High\",\"Normal\",\"Normal\",\"Normal\",\"High\",\n",
    "                 \"Normal\",\"Normal\",\"Normal\",\"High\",\"Normal\",\"High\"]\n",
    "Wind = [\"Weak\",\"Strong\",\"Weak\",\"Weak\",\"Weak\",\"Strong\",\"Strong\",\"Weak\",\n",
    "             \"Weak\",\"Weak\",\"Strong\",\"Strong\",\"Weak\",\"Strong\"]\n",
    "Decision = [\"No\",\"No\",\"Yes\",\"Yes\",\"Yes\",\"No\",\"Yes\",\"No\",\n",
    "                 \"Yes\",\"Yes\",\"Yes\",\"Yes\",\"Yes\",\"No\"]\n"
   ]
  },
  {
   "cell_type": "code",
   "execution_count": null,
   "id": "d236d34c",
   "metadata": {},
   "outputs": [],
   "source": []
  },
  {
   "cell_type": "code",
   "execution_count": 3,
   "id": "ba8557bf",
   "metadata": {},
   "outputs": [],
   "source": [
    "#All the above are string data(object), machine cannot understand. We need to convert it to Numeric\n",
    "#So here we're performing Encoding.\n",
    "\n",
    "#Encoding\n",
    " #1. Label Encoding\n",
    " #2 OneHoot Encoding\n",
    " #3.Get_Dummies\n"
   ]
  },
  {
   "cell_type": "code",
   "execution_count": 4,
   "id": "c19e9d33",
   "metadata": {},
   "outputs": [],
   "source": [
    "#Label Encoding\n",
    "#Label Encoding is a data preprocessing technique used in Machine Learning to convert categorical \n",
    "# values (like words or labels) into numerical values (integers), because most ML algorithms \n",
    "# work with numbers only.\n",
    "\n",
    "#If there 10 different obejctes, the numerical values are 0,1,2,3,4......,10\n"
   ]
  },
  {
   "cell_type": "code",
   "execution_count": 5,
   "id": "092fd235",
   "metadata": {},
   "outputs": [
    {
     "data": {
      "text/plain": [
       "array([2, 2, 0, 1, 1, 1, 0, 2, 2, 1, 2, 0, 0, 1])"
      ]
     },
     "execution_count": 5,
     "metadata": {},
     "output_type": "execute_result"
    }
   ],
   "source": [
    "from sklearn.preprocessing import LabelEncoder\n",
    "lab=LabelEncoder()\n",
    "Outlook_encoder = lab.fit_transform(Outlook)\n",
    "Outlook_encoder"
   ]
  },
  {
   "cell_type": "code",
   "execution_count": 6,
   "id": "def929b9",
   "metadata": {},
   "outputs": [
    {
     "data": {
      "text/plain": [
       "array([1, 1, 1, 2, 0, 0, 0, 2, 0, 2, 2, 2, 1, 2])"
      ]
     },
     "execution_count": 6,
     "metadata": {},
     "output_type": "execute_result"
    }
   ],
   "source": [
    "temp_encoder=lab.fit_transform(Temperature)\n",
    "temp_encoder"
   ]
  },
  {
   "cell_type": "code",
   "execution_count": 7,
   "id": "80feeef2",
   "metadata": {},
   "outputs": [
    {
     "data": {
      "text/plain": [
       "array([0, 0, 0, 0, 1, 1, 1, 0, 1, 1, 1, 0, 1, 0])"
      ]
     },
     "execution_count": 7,
     "metadata": {},
     "output_type": "execute_result"
    }
   ],
   "source": [
    "humidity_encoder=lab.fit_transform(Humidity)\n",
    "humidity_encoder"
   ]
  },
  {
   "cell_type": "code",
   "execution_count": 8,
   "id": "06766d93",
   "metadata": {},
   "outputs": [
    {
     "data": {
      "text/plain": [
       "array([1, 0, 1, 1, 1, 0, 0, 1, 1, 1, 0, 0, 1, 0])"
      ]
     },
     "execution_count": 8,
     "metadata": {},
     "output_type": "execute_result"
    }
   ],
   "source": [
    "Wind_encoder=lab.fit_transform(Wind)\n",
    "Wind_encoder"
   ]
  },
  {
   "cell_type": "code",
   "execution_count": 9,
   "id": "4a79270c",
   "metadata": {},
   "outputs": [
    {
     "data": {
      "text/plain": [
       "[(np.int64(2), np.int64(1), np.int64(0), np.int64(1)),\n",
       " (np.int64(2), np.int64(1), np.int64(0), np.int64(0)),\n",
       " (np.int64(0), np.int64(1), np.int64(0), np.int64(1)),\n",
       " (np.int64(1), np.int64(2), np.int64(0), np.int64(1)),\n",
       " (np.int64(1), np.int64(0), np.int64(1), np.int64(1)),\n",
       " (np.int64(1), np.int64(0), np.int64(1), np.int64(0)),\n",
       " (np.int64(0), np.int64(0), np.int64(1), np.int64(0)),\n",
       " (np.int64(2), np.int64(2), np.int64(0), np.int64(1)),\n",
       " (np.int64(2), np.int64(0), np.int64(1), np.int64(1)),\n",
       " (np.int64(1), np.int64(2), np.int64(1), np.int64(1)),\n",
       " (np.int64(2), np.int64(2), np.int64(1), np.int64(0)),\n",
       " (np.int64(0), np.int64(2), np.int64(0), np.int64(0)),\n",
       " (np.int64(0), np.int64(1), np.int64(1), np.int64(1)),\n",
       " (np.int64(1), np.int64(2), np.int64(0), np.int64(0))]"
      ]
     },
     "execution_count": 9,
     "metadata": {},
     "output_type": "execute_result"
    }
   ],
   "source": [
    "#To combine all imputs into one using Zip\n",
    "\n",
    "feature=list(zip(Outlook_encoder,temp_encoder,humidity_encoder,Wind_encoder))\n",
    "feature #All the input variables are now in feature variable"
   ]
  },
  {
   "cell_type": "code",
   "execution_count": 10,
   "id": "6121dc84",
   "metadata": {},
   "outputs": [],
   "source": [
    "#Model Creation\n",
    "\n",
    "# 3 type of classifiers\n",
    "\n",
    "#1.Gaussian()\n",
    "#2.Multinomial\n",
    "#3.Bernouli\n",
    "\n",
    "\n",
    "#Where Gausian classifier?\n",
    "   #If the given data is a contunious data(Numerical) set, then we use Gausian Classifier\n",
    "\n",
    "#Multinomial classifier\n",
    "  #If the given data is a descrete data/object data(string) set, then we use Multinomial Classifier\n",
    "\n",
    "#Bernouli Classiifer\n",
    "   #If the data is negative, we use Bernouli classifier\n",
    "\n"
   ]
  },
  {
   "cell_type": "code",
   "execution_count": 24,
   "id": "2193ef36",
   "metadata": {},
   "outputs": [
    {
     "name": "stdout",
     "output_type": "stream",
     "text": [
      "['No']\n"
     ]
    }
   ],
   "source": [
    "#Model creation\n",
    "\n",
    "from sklearn.naive_bayes import MultinomialNB\n",
    "model=MultinomialNB() #object created\n",
    "model.fit(feature,Decision)\n",
    "print(model.predict([[2,0,0,0]]))\n"
   ]
  }
 ],
 "metadata": {
  "kernelspec": {
   "display_name": "Python 3",
   "language": "python",
   "name": "python3"
  },
  "language_info": {
   "codemirror_mode": {
    "name": "ipython",
    "version": 3
   },
   "file_extension": ".py",
   "mimetype": "text/x-python",
   "name": "python",
   "nbconvert_exporter": "python",
   "pygments_lexer": "ipython3",
   "version": "3.13.3"
  }
 },
 "nbformat": 4,
 "nbformat_minor": 5
}
