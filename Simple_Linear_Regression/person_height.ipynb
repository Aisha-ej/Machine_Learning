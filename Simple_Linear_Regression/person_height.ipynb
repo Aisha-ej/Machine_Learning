{
 "cells": [
  {
   "cell_type": "code",
   "execution_count": 16,
   "id": "722d6954",
   "metadata": {},
   "outputs": [],
   "source": [
    "import numpy as np\n",
    "import pandas as pd\n",
    "import matplotlib.pyplot as plt"
   ]
  },
  {
   "cell_type": "code",
   "execution_count": 17,
   "id": "b64bb247",
   "metadata": {},
   "outputs": [
    {
     "data": {
      "text/html": [
       "<div>\n",
       "<style scoped>\n",
       "    .dataframe tbody tr th:only-of-type {\n",
       "        vertical-align: middle;\n",
       "    }\n",
       "\n",
       "    .dataframe tbody tr th {\n",
       "        vertical-align: top;\n",
       "    }\n",
       "\n",
       "    .dataframe thead th {\n",
       "        text-align: right;\n",
       "    }\n",
       "</style>\n",
       "<table border=\"1\" class=\"dataframe\">\n",
       "  <thead>\n",
       "    <tr style=\"text-align: right;\">\n",
       "      <th></th>\n",
       "      <th>Father</th>\n",
       "      <th>Son</th>\n",
       "    </tr>\n",
       "  </thead>\n",
       "  <tbody>\n",
       "    <tr>\n",
       "      <th>0</th>\n",
       "      <td>65.0</td>\n",
       "      <td>59.8</td>\n",
       "    </tr>\n",
       "    <tr>\n",
       "      <th>1</th>\n",
       "      <td>63.3</td>\n",
       "      <td>63.2</td>\n",
       "    </tr>\n",
       "    <tr>\n",
       "      <th>2</th>\n",
       "      <td>65.0</td>\n",
       "      <td>63.3</td>\n",
       "    </tr>\n",
       "    <tr>\n",
       "      <th>3</th>\n",
       "      <td>65.8</td>\n",
       "      <td>62.8</td>\n",
       "    </tr>\n",
       "    <tr>\n",
       "      <th>4</th>\n",
       "      <td>61.1</td>\n",
       "      <td>64.3</td>\n",
       "    </tr>\n",
       "    <tr>\n",
       "      <th>...</th>\n",
       "      <td>...</td>\n",
       "      <td>...</td>\n",
       "    </tr>\n",
       "    <tr>\n",
       "      <th>1073</th>\n",
       "      <td>67.0</td>\n",
       "      <td>70.8</td>\n",
       "    </tr>\n",
       "    <tr>\n",
       "      <th>1074</th>\n",
       "      <td>71.3</td>\n",
       "      <td>68.3</td>\n",
       "    </tr>\n",
       "    <tr>\n",
       "      <th>1075</th>\n",
       "      <td>71.8</td>\n",
       "      <td>69.3</td>\n",
       "    </tr>\n",
       "    <tr>\n",
       "      <th>1076</th>\n",
       "      <td>70.7</td>\n",
       "      <td>69.3</td>\n",
       "    </tr>\n",
       "    <tr>\n",
       "      <th>1077</th>\n",
       "      <td>70.3</td>\n",
       "      <td>67.0</td>\n",
       "    </tr>\n",
       "  </tbody>\n",
       "</table>\n",
       "<p>1078 rows × 2 columns</p>\n",
       "</div>"
      ],
      "text/plain": [
       "      Father   Son\n",
       "0       65.0  59.8\n",
       "1       63.3  63.2\n",
       "2       65.0  63.3\n",
       "3       65.8  62.8\n",
       "4       61.1  64.3\n",
       "...      ...   ...\n",
       "1073    67.0  70.8\n",
       "1074    71.3  68.3\n",
       "1075    71.8  69.3\n",
       "1076    70.7  69.3\n",
       "1077    70.3  67.0\n",
       "\n",
       "[1078 rows x 2 columns]"
      ]
     },
     "execution_count": 17,
     "metadata": {},
     "output_type": "execute_result"
    }
   ],
   "source": [
    "df = pd.read_csv('Pearson.csv')\n",
    "df"
   ]
  },
  {
   "cell_type": "code",
   "execution_count": 18,
   "id": "1a8f58ef",
   "metadata": {},
   "outputs": [
    {
     "data": {
      "text/plain": [
       "(1078, 2)"
      ]
     },
     "execution_count": 18,
     "metadata": {},
     "output_type": "execute_result"
    }
   ],
   "source": [
    "df.shape"
   ]
  },
  {
   "cell_type": "code",
   "execution_count": 19,
   "id": "5f03c7c2",
   "metadata": {},
   "outputs": [
    {
     "data": {
      "text/plain": [
       "2156"
      ]
     },
     "execution_count": 19,
     "metadata": {},
     "output_type": "execute_result"
    }
   ],
   "source": [
    "df.size"
   ]
  },
  {
   "cell_type": "code",
   "execution_count": 20,
   "id": "8a404268",
   "metadata": {},
   "outputs": [
    {
     "data": {
      "text/html": [
       "<div>\n",
       "<style scoped>\n",
       "    .dataframe tbody tr th:only-of-type {\n",
       "        vertical-align: middle;\n",
       "    }\n",
       "\n",
       "    .dataframe tbody tr th {\n",
       "        vertical-align: top;\n",
       "    }\n",
       "\n",
       "    .dataframe thead th {\n",
       "        text-align: right;\n",
       "    }\n",
       "</style>\n",
       "<table border=\"1\" class=\"dataframe\">\n",
       "  <thead>\n",
       "    <tr style=\"text-align: right;\">\n",
       "      <th></th>\n",
       "      <th>Father</th>\n",
       "      <th>Son</th>\n",
       "    </tr>\n",
       "  </thead>\n",
       "  <tbody>\n",
       "    <tr>\n",
       "      <th>0</th>\n",
       "      <td>65.0</td>\n",
       "      <td>59.8</td>\n",
       "    </tr>\n",
       "    <tr>\n",
       "      <th>1</th>\n",
       "      <td>63.3</td>\n",
       "      <td>63.2</td>\n",
       "    </tr>\n",
       "    <tr>\n",
       "      <th>2</th>\n",
       "      <td>65.0</td>\n",
       "      <td>63.3</td>\n",
       "    </tr>\n",
       "    <tr>\n",
       "      <th>3</th>\n",
       "      <td>65.8</td>\n",
       "      <td>62.8</td>\n",
       "    </tr>\n",
       "    <tr>\n",
       "      <th>4</th>\n",
       "      <td>61.1</td>\n",
       "      <td>64.3</td>\n",
       "    </tr>\n",
       "  </tbody>\n",
       "</table>\n",
       "</div>"
      ],
      "text/plain": [
       "   Father   Son\n",
       "0    65.0  59.8\n",
       "1    63.3  63.2\n",
       "2    65.0  63.3\n",
       "3    65.8  62.8\n",
       "4    61.1  64.3"
      ]
     },
     "execution_count": 20,
     "metadata": {},
     "output_type": "execute_result"
    }
   ],
   "source": [
    "df.head()"
   ]
  },
  {
   "cell_type": "code",
   "execution_count": 21,
   "id": "3a5c3e67",
   "metadata": {},
   "outputs": [
    {
     "data": {
      "text/html": [
       "<div>\n",
       "<style scoped>\n",
       "    .dataframe tbody tr th:only-of-type {\n",
       "        vertical-align: middle;\n",
       "    }\n",
       "\n",
       "    .dataframe tbody tr th {\n",
       "        vertical-align: top;\n",
       "    }\n",
       "\n",
       "    .dataframe thead th {\n",
       "        text-align: right;\n",
       "    }\n",
       "</style>\n",
       "<table border=\"1\" class=\"dataframe\">\n",
       "  <thead>\n",
       "    <tr style=\"text-align: right;\">\n",
       "      <th></th>\n",
       "      <th>Father</th>\n",
       "      <th>Son</th>\n",
       "    </tr>\n",
       "  </thead>\n",
       "  <tbody>\n",
       "    <tr>\n",
       "      <th>1073</th>\n",
       "      <td>67.0</td>\n",
       "      <td>70.8</td>\n",
       "    </tr>\n",
       "    <tr>\n",
       "      <th>1074</th>\n",
       "      <td>71.3</td>\n",
       "      <td>68.3</td>\n",
       "    </tr>\n",
       "    <tr>\n",
       "      <th>1075</th>\n",
       "      <td>71.8</td>\n",
       "      <td>69.3</td>\n",
       "    </tr>\n",
       "    <tr>\n",
       "      <th>1076</th>\n",
       "      <td>70.7</td>\n",
       "      <td>69.3</td>\n",
       "    </tr>\n",
       "    <tr>\n",
       "      <th>1077</th>\n",
       "      <td>70.3</td>\n",
       "      <td>67.0</td>\n",
       "    </tr>\n",
       "  </tbody>\n",
       "</table>\n",
       "</div>"
      ],
      "text/plain": [
       "      Father   Son\n",
       "1073    67.0  70.8\n",
       "1074    71.3  68.3\n",
       "1075    71.8  69.3\n",
       "1076    70.7  69.3\n",
       "1077    70.3  67.0"
      ]
     },
     "execution_count": 21,
     "metadata": {},
     "output_type": "execute_result"
    }
   ],
   "source": [
    "df.tail()"
   ]
  },
  {
   "cell_type": "code",
   "execution_count": 22,
   "id": "6080668b",
   "metadata": {},
   "outputs": [
    {
     "data": {
      "text/plain": [
       "Father    float64\n",
       "Son       float64\n",
       "dtype: object"
      ]
     },
     "execution_count": 22,
     "metadata": {},
     "output_type": "execute_result"
    }
   ],
   "source": [
    "df.dtypes"
   ]
  },
  {
   "cell_type": "code",
   "execution_count": 23,
   "id": "5bdc58bb",
   "metadata": {},
   "outputs": [
    {
     "data": {
      "text/plain": [
       "Father    0\n",
       "Son       0\n",
       "dtype: int64"
      ]
     },
     "execution_count": 23,
     "metadata": {},
     "output_type": "execute_result"
    }
   ],
   "source": [
    "df.isna().sum()"
   ]
  },
  {
   "cell_type": "code",
   "execution_count": 24,
   "id": "13d5d412",
   "metadata": {},
   "outputs": [
    {
     "data": {
      "text/html": [
       "<div>\n",
       "<style scoped>\n",
       "    .dataframe tbody tr th:only-of-type {\n",
       "        vertical-align: middle;\n",
       "    }\n",
       "\n",
       "    .dataframe tbody tr th {\n",
       "        vertical-align: top;\n",
       "    }\n",
       "\n",
       "    .dataframe thead th {\n",
       "        text-align: right;\n",
       "    }\n",
       "</style>\n",
       "<table border=\"1\" class=\"dataframe\">\n",
       "  <thead>\n",
       "    <tr style=\"text-align: right;\">\n",
       "      <th></th>\n",
       "      <th>Father</th>\n",
       "    </tr>\n",
       "  </thead>\n",
       "  <tbody>\n",
       "    <tr>\n",
       "      <th>0</th>\n",
       "      <td>65.0</td>\n",
       "    </tr>\n",
       "    <tr>\n",
       "      <th>1</th>\n",
       "      <td>63.3</td>\n",
       "    </tr>\n",
       "    <tr>\n",
       "      <th>2</th>\n",
       "      <td>65.0</td>\n",
       "    </tr>\n",
       "    <tr>\n",
       "      <th>3</th>\n",
       "      <td>65.8</td>\n",
       "    </tr>\n",
       "    <tr>\n",
       "      <th>4</th>\n",
       "      <td>61.1</td>\n",
       "    </tr>\n",
       "    <tr>\n",
       "      <th>...</th>\n",
       "      <td>...</td>\n",
       "    </tr>\n",
       "    <tr>\n",
       "      <th>1073</th>\n",
       "      <td>67.0</td>\n",
       "    </tr>\n",
       "    <tr>\n",
       "      <th>1074</th>\n",
       "      <td>71.3</td>\n",
       "    </tr>\n",
       "    <tr>\n",
       "      <th>1075</th>\n",
       "      <td>71.8</td>\n",
       "    </tr>\n",
       "    <tr>\n",
       "      <th>1076</th>\n",
       "      <td>70.7</td>\n",
       "    </tr>\n",
       "    <tr>\n",
       "      <th>1077</th>\n",
       "      <td>70.3</td>\n",
       "    </tr>\n",
       "  </tbody>\n",
       "</table>\n",
       "<p>1078 rows × 1 columns</p>\n",
       "</div>"
      ],
      "text/plain": [
       "      Father\n",
       "0       65.0\n",
       "1       63.3\n",
       "2       65.0\n",
       "3       65.8\n",
       "4       61.1\n",
       "...      ...\n",
       "1073    67.0\n",
       "1074    71.3\n",
       "1075    71.8\n",
       "1076    70.7\n",
       "1077    70.3\n",
       "\n",
       "[1078 rows x 1 columns]"
      ]
     },
     "execution_count": 24,
     "metadata": {},
     "output_type": "execute_result"
    }
   ],
   "source": [
    "x = df.iloc[:,:-1]\n",
    "x"
   ]
  },
  {
   "cell_type": "code",
   "execution_count": 25,
   "id": "bbd3e1df",
   "metadata": {},
   "outputs": [
    {
     "data": {
      "text/plain": [
       "0       59.8\n",
       "1       63.2\n",
       "2       63.3\n",
       "3       62.8\n",
       "4       64.3\n",
       "        ... \n",
       "1073    70.8\n",
       "1074    68.3\n",
       "1075    69.3\n",
       "1076    69.3\n",
       "1077    67.0\n",
       "Name: Son, Length: 1078, dtype: float64"
      ]
     },
     "execution_count": 25,
     "metadata": {},
     "output_type": "execute_result"
    }
   ],
   "source": [
    "y = df.iloc[:,-1]\n",
    "y"
   ]
  },
  {
   "cell_type": "code",
   "execution_count": 26,
   "id": "b71147d1",
   "metadata": {},
   "outputs": [
    {
     "data": {
      "image/png": "[encoded data removed]",
      "text/plain": [
       "<Figure size 640x480 with 1 Axes>"
      ]
     },
     "metadata": {},
     "output_type": "display_data"
    }
   ],
   "source": [
    "plt.scatter(x,y)\n",
    "plt.xlabel(\"Father\")\n",
    "plt.ylabel(\"Son\")\n",
    "plt.title(\"Father Vs Son with heights\")\n",
    "plt.show()"
   ]
  },
  {
   "cell_type": "code",
   "execution_count": 27,
   "id": "3a19ee6c",
   "metadata": {},
   "outputs": [
    {
     "data": {
      "text/html": [
       "<div>\n",
       "<style scoped>\n",
       "    .dataframe tbody tr th:only-of-type {\n",
       "        vertical-align: middle;\n",
       "    }\n",
       "\n",
       "    .dataframe tbody tr th {\n",
       "        vertical-align: top;\n",
       "    }\n",
       "\n",
       "    .dataframe thead th {\n",
       "        text-align: right;\n",
       "    }\n",
       "</style>\n",
       "<table border=\"1\" class=\"dataframe\">\n",
       "  <thead>\n",
       "    <tr style=\"text-align: right;\">\n",
       "      <th></th>\n",
       "      <th>Father</th>\n",
       "    </tr>\n",
       "  </thead>\n",
       "  <tbody>\n",
       "    <tr>\n",
       "      <th>259</th>\n",
       "      <td>65.4</td>\n",
       "    </tr>\n",
       "    <tr>\n",
       "      <th>204</th>\n",
       "      <td>62.7</td>\n",
       "    </tr>\n",
       "    <tr>\n",
       "      <th>427</th>\n",
       "      <td>72.0</td>\n",
       "    </tr>\n",
       "    <tr>\n",
       "      <th>720</th>\n",
       "      <td>64.3</td>\n",
       "    </tr>\n",
       "    <tr>\n",
       "      <th>836</th>\n",
       "      <td>68.0</td>\n",
       "    </tr>\n",
       "    <tr>\n",
       "      <th>...</th>\n",
       "      <td>...</td>\n",
       "    </tr>\n",
       "    <tr>\n",
       "      <th>330</th>\n",
       "      <td>67.3</td>\n",
       "    </tr>\n",
       "    <tr>\n",
       "      <th>466</th>\n",
       "      <td>67.6</td>\n",
       "    </tr>\n",
       "    <tr>\n",
       "      <th>121</th>\n",
       "      <td>69.2</td>\n",
       "    </tr>\n",
       "    <tr>\n",
       "      <th>1044</th>\n",
       "      <td>69.3</td>\n",
       "    </tr>\n",
       "    <tr>\n",
       "      <th>860</th>\n",
       "      <td>65.3</td>\n",
       "    </tr>\n",
       "  </tbody>\n",
       "</table>\n",
       "<p>754 rows × 1 columns</p>\n",
       "</div>"
      ],
      "text/plain": [
       "      Father\n",
       "259     65.4\n",
       "204     62.7\n",
       "427     72.0\n",
       "720     64.3\n",
       "836     68.0\n",
       "...      ...\n",
       "330     67.3\n",
       "466     67.6\n",
       "121     69.2\n",
       "1044    69.3\n",
       "860     65.3\n",
       "\n",
       "[754 rows x 1 columns]"
      ]
     },
     "execution_count": 27,
     "metadata": {},
     "output_type": "execute_result"
    }
   ],
   "source": [
    "from sklearn.model_selection import train_test_split\n",
    "x_train,x_test,y_train,y_test = train_test_split(x,y,test_size = 0.30,random_state = 42)\n",
    "x_train"
   ]
  },
  {
   "cell_type": "code",
   "execution_count": 28,
   "id": "6dcedb17",
   "metadata": {},
   "outputs": [
    {
     "data": {
      "text/html": [
       "<div>\n",
       "<style scoped>\n",
       "    .dataframe tbody tr th:only-of-type {\n",
       "        vertical-align: middle;\n",
       "    }\n",
       "\n",
       "    .dataframe tbody tr th {\n",
       "        vertical-align: top;\n",
       "    }\n",
       "\n",
       "    .dataframe thead th {\n",
       "        text-align: right;\n",
       "    }\n",
       "</style>\n",
       "<table border=\"1\" class=\"dataframe\">\n",
       "  <thead>\n",
       "    <tr style=\"text-align: right;\">\n",
       "      <th></th>\n",
       "      <th>Father</th>\n",
       "    </tr>\n",
       "  </thead>\n",
       "  <tbody>\n",
       "    <tr>\n",
       "      <th>423</th>\n",
       "      <td>73.9</td>\n",
       "    </tr>\n",
       "    <tr>\n",
       "      <th>548</th>\n",
       "      <td>67.9</td>\n",
       "    </tr>\n",
       "    <tr>\n",
       "      <th>837</th>\n",
       "      <td>67.8</td>\n",
       "    </tr>\n",
       "    <tr>\n",
       "      <th>587</th>\n",
       "      <td>72.8</td>\n",
       "    </tr>\n",
       "    <tr>\n",
       "      <th>864</th>\n",
       "      <td>65.0</td>\n",
       "    </tr>\n",
       "    <tr>\n",
       "      <th>...</th>\n",
       "      <td>...</td>\n",
       "    </tr>\n",
       "    <tr>\n",
       "      <th>457</th>\n",
       "      <td>64.6</td>\n",
       "    </tr>\n",
       "    <tr>\n",
       "      <th>71</th>\n",
       "      <td>72.8</td>\n",
       "    </tr>\n",
       "    <tr>\n",
       "      <th>94</th>\n",
       "      <td>69.3</td>\n",
       "    </tr>\n",
       "    <tr>\n",
       "      <th>33</th>\n",
       "      <td>67.9</td>\n",
       "    </tr>\n",
       "    <tr>\n",
       "      <th>684</th>\n",
       "      <td>69.7</td>\n",
       "    </tr>\n",
       "  </tbody>\n",
       "</table>\n",
       "<p>324 rows × 1 columns</p>\n",
       "</div>"
      ],
      "text/plain": [
       "     Father\n",
       "423    73.9\n",
       "548    67.9\n",
       "837    67.8\n",
       "587    72.8\n",
       "864    65.0\n",
       "..      ...\n",
       "457    64.6\n",
       "71     72.8\n",
       "94     69.3\n",
       "33     67.9\n",
       "684    69.7\n",
       "\n",
       "[324 rows x 1 columns]"
      ]
     },
     "execution_count": 28,
     "metadata": {},
     "output_type": "execute_result"
    }
   ],
   "source": [
    "x_test"
   ]
  },
  {
   "cell_type": "code",
   "execution_count": 29,
   "id": "0058420f",
   "metadata": {},
   "outputs": [
    {
     "data": {
      "text/plain": [
       "259     67.3\n",
       "204     61.3\n",
       "427     69.2\n",
       "720     68.4\n",
       "836     73.1\n",
       "        ... \n",
       "330     68.9\n",
       "466     66.3\n",
       "121     68.9\n",
       "1044    71.9\n",
       "860     61.7\n",
       "Name: Son, Length: 754, dtype: float64"
      ]
     },
     "execution_count": 29,
     "metadata": {},
     "output_type": "execute_result"
    }
   ],
   "source": [
    "y_train"
   ]
  },
  {
   "cell_type": "code",
   "execution_count": 30,
   "id": "01f9ee4f",
   "metadata": {},
   "outputs": [
    {
     "data": {
      "text/plain": [
       "423    70.0\n",
       "548    69.0\n",
       "837    73.6\n",
       "587    70.6\n",
       "864    63.5\n",
       "       ... \n",
       "457    66.1\n",
       "71     67.6\n",
       "94     68.3\n",
       "33     65.8\n",
       "684    66.6\n",
       "Name: Son, Length: 324, dtype: float64"
      ]
     },
     "execution_count": 30,
     "metadata": {},
     "output_type": "execute_result"
    }
   ],
   "source": [
    "y_test"
   ]
  },
  {
   "cell_type": "code",
   "execution_count": 31,
   "id": "5c30bc6e",
   "metadata": {},
   "outputs": [
    {
     "data": {
      "text/plain": [
       "array([71.94127637, 68.8170954 , 68.76502572, 71.36850986, 67.3070746 ,\n",
       "       69.96262842, 69.28572255, 70.17090716, 70.58746462, 68.19225921,\n",
       "       70.06676779, 69.96262842, 71.73299764, 67.04672618, 69.70228001,\n",
       "       67.93191079, 69.07744382, 68.66088635, 70.27504652, 67.67156238,\n",
       "       67.72363206, 69.91055874, 67.82777143, 70.37918589, 69.1295135 ,\n",
       "       69.4419316 , 70.84781303, 70.74367367, 67.77570174, 67.61949269,\n",
       "       68.03605016, 68.55674699, 67.46328365, 68.8170954 , 70.53539494,\n",
       "       70.43125557, 67.72363206, 68.24432889, 69.54607096, 70.58746462,\n",
       "       70.22297684, 68.55674699, 68.86916508, 68.86916508, 69.85848906,\n",
       "       68.03605016, 68.71295604, 68.14018952, 67.87984111, 68.55674699,\n",
       "       69.85848906, 69.02537413, 69.07744382, 70.3271162 , 69.65021033,\n",
       "       67.15086555, 69.49400128, 69.02537413, 66.36982031, 67.87984111,\n",
       "       68.66088635, 69.70228001, 64.44324204, 66.52602935, 67.35914428,\n",
       "       69.85848906, 67.82777143, 67.09879587, 69.85848906, 71.47264923,\n",
       "       69.96262842, 70.17090716, 69.1295135 , 68.19225921, 68.08811984,\n",
       "       67.3070746 , 68.71295604, 68.24432889, 68.08811984, 69.49400128,\n",
       "       66.83844745, 69.49400128, 67.51535333, 68.55674699, 66.83844745,\n",
       "       67.98398048, 69.75434969, 68.40053794, 71.57678859, 66.6822384 ,\n",
       "       65.58877506, 68.66088635, 69.65021033, 67.93191079, 68.14018952,\n",
       "       68.14018952, 66.36982031, 69.07744382, 70.53539494, 68.55674699,\n",
       "       70.48332525, 68.19225921, 66.73430809, 67.46328365, 69.18158318,\n",
       "       70.3271162 , 69.4419316 , 69.70228001, 69.07744382, 68.71295604,\n",
       "       69.80641938, 68.40053794, 67.04672618, 68.55674699, 64.18289362,\n",
       "       65.27635697, 69.96262842, 68.66088635, 66.21361126, 66.73430809,\n",
       "       68.76502572, 67.61949269, 68.40053794, 69.18158318, 69.1295135 ,\n",
       "       69.4419316 , 68.19225921, 67.87984111, 67.3070746 , 69.23365286,\n",
       "       68.86916508, 67.77570174, 67.25500491, 68.55674699, 67.77570174,\n",
       "       68.55674699, 69.28572255, 70.27504652, 66.78637777, 67.72363206,\n",
       "       67.51535333, 66.00533253, 65.79705379, 68.5046773 , 69.02537413,\n",
       "       65.95326284, 68.29639857, 69.75434969, 67.67156238, 67.61949269,\n",
       "       71.10816145, 68.24432889, 68.29639857, 67.56742301, 69.70228001,\n",
       "       67.72363206, 68.86916508, 68.40053794, 70.3271162 , 68.8170954 ,\n",
       "       69.38986191, 67.77570174, 67.09879587, 68.14018952, 68.76502572,\n",
       "       65.90119316, 67.82777143, 70.11883747, 69.23365286, 69.07744382,\n",
       "       68.8170954 , 69.07744382, 67.87984111, 70.01469811, 67.93191079,\n",
       "       67.82777143, 66.26568094, 66.73430809, 68.45260762, 69.85848906,\n",
       "       69.38986191, 67.93191079, 69.33779223, 69.70228001, 66.63016872,\n",
       "       68.60881667, 68.8170954 , 69.33779223, 69.28572255, 67.15086555,\n",
       "       69.65021033, 69.80641938, 71.21230081, 67.56742301, 67.35914428,\n",
       "       68.24432889, 67.15086555, 69.80641938, 68.60881667, 66.16154157,\n",
       "       67.20293523, 70.69160398, 70.58746462, 67.3070746 , 69.02537413,\n",
       "       68.60881667, 69.49400128, 70.01469811, 70.06676779, 71.16023113,\n",
       "       68.14018952, 70.01469811, 67.09879587, 68.5046773 , 70.17090716,\n",
       "       68.5046773 , 66.9946565 , 68.29639857, 70.9519524 , 68.55674699,\n",
       "       67.72363206, 69.75434969, 69.4419316 , 69.59814064, 69.38986191,\n",
       "       65.38049633, 65.84912348, 67.20293523, 69.02537413, 71.05609177,\n",
       "       67.25500491, 66.63016872, 70.69160398, 67.77570174, 69.65021033,\n",
       "       68.92123477, 69.70228001, 67.3070746 , 66.16154157, 70.27504652,\n",
       "       67.3070746 , 69.91055874, 69.4419316 , 68.97330445, 69.02537413,\n",
       "       69.07744382, 71.10816145, 69.18158318, 71.36850986, 70.22297684,\n",
       "       68.24432889, 68.71295604, 70.9519524 , 69.85848906, 67.20293523,\n",
       "       68.55674699, 66.83844745, 69.4419316 , 69.02537413, 66.94258682,\n",
       "       68.5046773 , 70.58746462, 68.71295604, 68.24432889, 69.38986191,\n",
       "       69.54607096, 67.20293523, 68.5046773 , 66.73430809, 69.23365286,\n",
       "       68.8170954 , 67.56742301, 67.72363206, 68.60881667, 67.15086555,\n",
       "       67.35914428, 68.76502572, 70.74367367, 70.37918589, 69.23365286,\n",
       "       68.71295604, 69.38986191, 67.61949269, 69.85848906, 67.77570174,\n",
       "       66.10947189, 67.3070746 , 71.16023113, 67.72363206, 69.96262842,\n",
       "       69.33779223, 67.61949269, 68.76502572, 68.5046773 , 67.87984111,\n",
       "       69.91055874, 70.22297684, 69.70228001, 68.92123477, 69.02537413,\n",
       "       69.38986191, 69.80641938, 68.92123477, 68.71295604, 67.82777143,\n",
       "       69.85848906, 65.95326284, 68.29639857, 69.38986191, 66.6822384 ,\n",
       "       68.76502572, 68.8170954 , 69.28572255, 68.66088635, 67.41121396,\n",
       "       69.33779223, 68.45260762, 68.8170954 , 68.97330445, 67.09879587,\n",
       "       71.36850986, 69.54607096, 68.8170954 , 69.75434969])"
      ]
     },
     "execution_count": 31,
     "metadata": {},
     "output_type": "execute_result"
    }
   ],
   "source": [
    "from sklearn.linear_model import LinearRegression\n",
    "model = LinearRegression()\n",
    "model.fit(x_train,y_train)\n",
    "y_pred = model.predict(x_test)\n",
    "y_pred"
   ]
  },
  {
   "cell_type": "code",
   "execution_count": 32,
   "id": "717cc97e",
   "metadata": {},
   "outputs": [
    {
     "data": {
      "text/plain": [
       "423    70.0\n",
       "548    69.0\n",
       "837    73.6\n",
       "587    70.6\n",
       "864    63.5\n",
       "       ... \n",
       "457    66.1\n",
       "71     67.6\n",
       "94     68.3\n",
       "33     65.8\n",
       "684    66.6\n",
       "Name: Son, Length: 324, dtype: float64"
      ]
     },
     "execution_count": 32,
     "metadata": {},
     "output_type": "execute_result"
    }
   ],
   "source": [
    "y_test"
   ]
  },
  {
   "cell_type": "code",
   "execution_count": 33,
   "id": "439fd7e9",
   "metadata": {},
   "outputs": [
    {
     "data": {
      "text/html": [
       "<div>\n",
       "<style scoped>\n",
       "    .dataframe tbody tr th:only-of-type {\n",
       "        vertical-align: middle;\n",
       "    }\n",
       "\n",
       "    .dataframe tbody tr th {\n",
       "        vertical-align: top;\n",
       "    }\n",
       "\n",
       "    .dataframe thead th {\n",
       "        text-align: right;\n",
       "    }\n",
       "</style>\n",
       "<table border=\"1\" class=\"dataframe\">\n",
       "  <thead>\n",
       "    <tr style=\"text-align: right;\">\n",
       "      <th></th>\n",
       "      <th>Actual Value</th>\n",
       "      <th>Predicted Value</th>\n",
       "      <th>Difference</th>\n",
       "    </tr>\n",
       "  </thead>\n",
       "  <tbody>\n",
       "    <tr>\n",
       "      <th>423</th>\n",
       "      <td>70.0</td>\n",
       "      <td>71.941276</td>\n",
       "      <td>-1.941276</td>\n",
       "    </tr>\n",
       "    <tr>\n",
       "      <th>548</th>\n",
       "      <td>69.0</td>\n",
       "      <td>68.817095</td>\n",
       "      <td>0.182905</td>\n",
       "    </tr>\n",
       "    <tr>\n",
       "      <th>837</th>\n",
       "      <td>73.6</td>\n",
       "      <td>68.765026</td>\n",
       "      <td>4.834974</td>\n",
       "    </tr>\n",
       "    <tr>\n",
       "      <th>587</th>\n",
       "      <td>70.6</td>\n",
       "      <td>71.368510</td>\n",
       "      <td>-0.768510</td>\n",
       "    </tr>\n",
       "    <tr>\n",
       "      <th>864</th>\n",
       "      <td>63.5</td>\n",
       "      <td>67.307075</td>\n",
       "      <td>-3.807075</td>\n",
       "    </tr>\n",
       "    <tr>\n",
       "      <th>...</th>\n",
       "      <td>...</td>\n",
       "      <td>...</td>\n",
       "      <td>...</td>\n",
       "    </tr>\n",
       "    <tr>\n",
       "      <th>457</th>\n",
       "      <td>66.1</td>\n",
       "      <td>67.098796</td>\n",
       "      <td>-0.998796</td>\n",
       "    </tr>\n",
       "    <tr>\n",
       "      <th>71</th>\n",
       "      <td>67.6</td>\n",
       "      <td>71.368510</td>\n",
       "      <td>-3.768510</td>\n",
       "    </tr>\n",
       "    <tr>\n",
       "      <th>94</th>\n",
       "      <td>68.3</td>\n",
       "      <td>69.546071</td>\n",
       "      <td>-1.246071</td>\n",
       "    </tr>\n",
       "    <tr>\n",
       "      <th>33</th>\n",
       "      <td>65.8</td>\n",
       "      <td>68.817095</td>\n",
       "      <td>-3.017095</td>\n",
       "    </tr>\n",
       "    <tr>\n",
       "      <th>684</th>\n",
       "      <td>66.6</td>\n",
       "      <td>69.754350</td>\n",
       "      <td>-3.154350</td>\n",
       "    </tr>\n",
       "  </tbody>\n",
       "</table>\n",
       "<p>324 rows × 3 columns</p>\n",
       "</div>"
      ],
      "text/plain": [
       "     Actual Value  Predicted Value  Difference\n",
       "423          70.0        71.941276   -1.941276\n",
       "548          69.0        68.817095    0.182905\n",
       "837          73.6        68.765026    4.834974\n",
       "587          70.6        71.368510   -0.768510\n",
       "864          63.5        67.307075   -3.807075\n",
       "..            ...              ...         ...\n",
       "457          66.1        67.098796   -0.998796\n",
       "71           67.6        71.368510   -3.768510\n",
       "94           68.3        69.546071   -1.246071\n",
       "33           65.8        68.817095   -3.017095\n",
       "684          66.6        69.754350   -3.154350\n",
       "\n",
       "[324 rows x 3 columns]"
      ]
     },
     "execution_count": 33,
     "metadata": {},
     "output_type": "execute_result"
    }
   ],
   "source": [
    "df1 = pd.DataFrame({\"Actual Value\":y_test,\"Predicted Value\":y_pred,\"Difference\": y_test - y_pred})\n",
    "df1"
   ]
  },
  {
   "cell_type": "code",
   "execution_count": 34,
   "id": "d899ffd9",
   "metadata": {},
   "outputs": [
    {
     "data": {
      "text/plain": [
       "[<matplotlib.lines.Line2D at 0x11684b890>]"
      ]
     },
     "execution_count": 34,
     "metadata": {},
     "output_type": "execute_result"
    },
    {
     "data": {
      "image/png": "[encoded data removed]",
      "text/plain": [
       "<Figure size 640x480 with 1 Axes>"
      ]
     },
     "metadata": {},
     "output_type": "display_data"
    }
   ],
   "source": [
    "plt.scatter(x_train,y_train)\n",
    "plt.plot(x_test,y_pred,color='r')\n"
   ]
  },
  {
   "cell_type": "code",
   "execution_count": 35,
   "id": "0e027df1",
   "metadata": {},
   "outputs": [
    {
     "name": "stdout",
     "output_type": "stream",
     "text": [
      "[0.52069683]\n"
     ]
    }
   ],
   "source": [
    "print(model.coef_)"
   ]
  },
  {
   "cell_type": "code",
   "execution_count": 36,
   "id": "6fdf1cc4",
   "metadata": {},
   "outputs": [
    {
     "name": "stdout",
     "output_type": "stream",
     "text": [
      "33.46178072537134\n"
     ]
    }
   ],
   "source": [
    "print(model.intercept_)"
   ]
  },
  {
   "cell_type": "code",
   "execution_count": 37,
   "id": "3dd5d4df",
   "metadata": {},
   "outputs": [],
   "source": [
    "#Performace Evaluation \n",
    "\n",
    "from sklearn.metrics import mean_absolute_error,mean_absolute_percentage_error,mean_squared_error,root_mean_squared_error,r2_score"
   ]
  },
  {
   "cell_type": "code",
   "execution_count": 38,
   "id": "dbaca8d4",
   "metadata": {},
   "outputs": [
    {
     "data": {
      "text/plain": [
       "1.8566674766330693"
      ]
     },
     "execution_count": 38,
     "metadata": {},
     "output_type": "execute_result"
    }
   ],
   "source": [
    "mae = mean_absolute_error(y_test,y_pred)\n",
    "mae"
   ]
  },
  {
   "cell_type": "code",
   "execution_count": null,
   "id": "45483c76",
   "metadata": {},
   "outputs": [
    {
     "data": {
      "text/plain": [
       "0.027171124377887997"
      ]
     },
     "execution_count": 39,
     "metadata": {},
     "output_type": "execute_result"
    }
   ],
   "source": [
    "mape = mean_absolute_percentage_error(y_test,y_pred)\n",
    "mape"
   ]
  },
  {
   "cell_type": "code",
   "execution_count": 40,
   "id": "58b16fcf",
   "metadata": {},
   "outputs": [
    {
     "data": {
      "text/plain": [
       "5.667989246087993"
      ]
     },
     "execution_count": 40,
     "metadata": {},
     "output_type": "execute_result"
    }
   ],
   "source": [
    "mse = mean_squared_error(y_test,y_pred)\n",
    "mse"
   ]
  },
  {
   "cell_type": "code",
   "execution_count": 41,
   "id": "ccc58e8c",
   "metadata": {},
   "outputs": [
    {
     "data": {
      "text/plain": [
       "2.380753923883775"
      ]
     },
     "execution_count": 41,
     "metadata": {},
     "output_type": "execute_result"
    }
   ],
   "source": [
    "rmse = root_mean_squared_error(y_test,y_pred)\n",
    "rmse"
   ]
  },
  {
   "cell_type": "code",
   "execution_count": 42,
   "id": "afb34d1e",
   "metadata": {},
   "outputs": [
    {
     "data": {
      "text/plain": [
       "0.221141945892383"
      ]
     },
     "execution_count": 42,
     "metadata": {},
     "output_type": "execute_result"
    }
   ],
   "source": [
    "r2_sc = r2_score(y_test,y_pred)\n",
    "r2_sc"
   ]
  }
 ],
 "metadata": {
  "kernelspec": {
   "display_name": "Python 3",
   "language": "python",
   "name": "python3"
  },
  "language_info": {
   "codemirror_mode": {
    "name": "ipython",
    "version": 3
   },
   "file_extension": ".py",
   "mimetype": "text/x-python",
   "name": "python",
   "nbconvert_exporter": "python",
   "pygments_lexer": "ipython3",
   "version": "3.13.3"
  }
 },
 "nbformat": 4,
 "nbformat_minor": 5
}
